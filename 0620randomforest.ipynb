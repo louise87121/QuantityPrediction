{
 "cells": [
  {
   "cell_type": "code",
   "execution_count": 2,
   "id": "f0662601",
   "metadata": {},
   "outputs": [],
   "source": [
    "import pandas as pd\n",
    "\n",
    "# Load the uploaded CSV file\n",
    "file_path = \"online_0616d24.csv\"\n",
    "df = pd.read_csv(file_path)\n",
    "\n",
    "# # Display the first few rows and info to understand the structure\n",
    "# df.info(), df.head()\n"
   ]
  },
  {
   "cell_type": "code",
   "execution_count": 3,
   "id": "29595b66",
   "metadata": {},
   "outputs": [
    {
     "data": {
      "text/plain": [
       "(204.88974666286367, 0.5205547212451591)"
      ]
     },
     "execution_count": 3,
     "metadata": {},
     "output_type": "execute_result"
    }
   ],
   "source": [
    "from sklearn.ensemble import RandomForestRegressor\n",
    "from sklearn.model_selection import train_test_split\n",
    "from sklearn.metrics import mean_squared_error, r2_score\n",
    "from sklearn.impute import SimpleImputer\n",
    "from sklearn.preprocessing import OneHotEncoder\n",
    "from sklearn.compose import ColumnTransformer\n",
    "from sklearn.pipeline import Pipeline\n",
    "import numpy as np\n",
    "\n",
    "# Step 1: Drop the \"Date\" column\n",
    "df = df.drop(columns=[\"Date\"])\n",
    "\n",
    "# Step 2: Separate numerical and categorical columns\n",
    "num_cols = df.select_dtypes(include=[\"number\"]).columns.drop(\"Quantity\")\n",
    "cat_cols = df.select_dtypes(include=[\"object\"]).columns\n",
    "\n",
    "# Step 2: Impute missing values\n",
    "num_imputer = SimpleImputer(strategy=\"median\")\n",
    "cat_imputer = SimpleImputer(strategy=\"most_frequent\")\n",
    "\n",
    "# Step 3: One-hot encode categorical columns\n",
    "cat_encoder = OneHotEncoder(handle_unknown=\"ignore\")\n",
    "\n",
    "# Combine transformations\n",
    "preprocessor = ColumnTransformer(\n",
    "    transformers=[\n",
    "        (\"num\", num_imputer, num_cols),\n",
    "        (\"cat\", Pipeline(steps=[(\"imputer\", cat_imputer), (\"encoder\", cat_encoder)]), cat_cols)\n",
    "    ]\n",
    ")\n",
    "\n",
    "# Full pipeline\n",
    "pipeline = Pipeline(steps=[\n",
    "    (\"preprocessor\", preprocessor),\n",
    "    (\"model\", RandomForestRegressor(n_estimators=100, random_state=42))\n",
    "])\n",
    "\n",
    "# Split dataset\n",
    "X = df.drop(columns=[\"Quantity\"])\n",
    "y = df[\"Quantity\"]\n",
    "\n",
    "X_train, X_test, y_train, y_test = train_test_split(X, y, test_size=0.2, random_state=42)\n",
    "\n",
    "# Fit the model\n",
    "pipeline.fit(X_train, y_train)\n",
    "\n",
    "# Predict and evaluate\n",
    "y_pred = pipeline.predict(X_test)\n",
    "mse = mean_squared_error(y_test, y_pred)\n",
    "r2 = r2_score(y_test, y_pred)\n",
    "\n",
    "mse, r2\n"
   ]
  },
  {
   "cell_type": "markdown",
   "id": "73bb9967",
   "metadata": {},
   "source": [
    "### GridSearchCV"
   ]
  },
  {
   "cell_type": "code",
   "execution_count": null,
   "id": "dc393f7f",
   "metadata": {},
   "outputs": [],
   "source": [
    "from sklearn.model_selection import GridSearchCV\n",
    "from sklearn.ensemble import RandomForestRegressor\n",
    "\n",
    "# Define the parameter grid for Grid Search\n",
    "param_grid = {\n",
    "    'model__n_estimators': [100, 200],\n",
    "    'model__max_depth': [None, 10, 20],\n",
    "    'model__min_samples_split': [2, 5],\n",
    "    'model__min_samples_leaf': [1, 2]\n",
    "}\n",
    "\n",
    "# Wrap the original pipeline with GridSearchCV\n",
    "grid_search = GridSearchCV(\n",
    "    pipeline,\n",
    "    param_grid=param_grid,\n",
    "    cv=5,\n",
    "    scoring='r2',\n",
    "    n_jobs=-1\n",
    ")\n",
    "\n",
    "# Fit the grid search on the training data\n",
    "grid_search.fit(X_train, y_train)\n",
    "\n",
    "# Best estimator and its R2 score on the test set\n",
    "best_model = grid_search.best_estimator_\n",
    "y_pred_best = best_model.predict(X_test)\n",
    "best_r2 = r2_score(y_test, y_pred_best)\n",
    "best_params = grid_search.best_params_\n",
    "\n",
    "best_params, best_r2\n"
   ]
  },
  {
   "cell_type": "code",
   "execution_count": 4,
   "id": "47e9c652",
   "metadata": {},
   "outputs": [],
   "source": [
    "# 匯出預測結果與實際值\n",
    "results_df = X_test.copy()\n",
    "results_df[\"Actual_Quantity\"] = y_test.values\n",
    "results_df[\"Predicted_Quantity\"] = y_pred\n",
    "\n",
    "\n"
   ]
  },
  {
   "cell_type": "code",
   "execution_count": 6,
   "id": "ec714185",
   "metadata": {},
   "outputs": [
    {
     "data": {
      "text/plain": [
       "'random_forest_062003.csv'"
      ]
     },
     "execution_count": 6,
     "metadata": {},
     "output_type": "execute_result"
    }
   ],
   "source": [
    "# 存成 CSV\n",
    "output_path = \"random_forest_062003.csv\"\n",
    "results_df.to_csv(output_path, index=False)\n",
    "\n",
    "output_path"
   ]
  },
  {
   "cell_type": "code",
   "execution_count": null,
   "id": "0e971be2",
   "metadata": {},
   "outputs": [],
   "source": []
  }
 ],
 "metadata": {
  "kernelspec": {
   "display_name": "Python 3",
   "language": "python",
   "name": "python3"
  },
  "language_info": {
   "codemirror_mode": {
    "name": "ipython",
    "version": 3
   },
   "file_extension": ".py",
   "mimetype": "text/x-python",
   "name": "python",
   "nbconvert_exporter": "python",
   "pygments_lexer": "ipython3",
   "version": "3.13.1"
  }
 },
 "nbformat": 4,
 "nbformat_minor": 5
}
