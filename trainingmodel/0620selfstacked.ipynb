{
 "cells": [
  {
   "cell_type": "code",
   "execution_count": 1,
   "id": "dc0c6af5",
   "metadata": {},
   "outputs": [],
   "source": [
    "\n",
    "import pandas as pd\n",
    "import numpy as np\n",
    "from sklearn.model_selection import train_test_split, GridSearchCV\n",
    "from sklearn.linear_model import LinearRegression\n",
    "from sklearn.ensemble import RandomForestRegressor, GradientBoostingRegressor, StackingRegressor\n",
    "from sklearn.metrics import mean_squared_error, r2_score\n",
    "import joblib\n",
    "import os\n",
    "\n",
    "# 載入 CSV\n",
    "df = pd.read_csv(\"../online_0616d24.csv\")\n",
    "df = df.dropna(subset=['Quantity'])\n",
    "\n",
    "# 數值與類別欄位\n",
    "num_cols = df.select_dtypes(include=['int64', 'float64']).columns.drop('Quantity')\n",
    "cat_cols = df.select_dtypes(include=['object', 'category']).columns\n",
    "\n",
    "# 補值\n",
    "for col in num_cols:\n",
    "    df[col] = df[col].fillna(df[col].median())\n",
    "for col in cat_cols:\n",
    "    df[col] = df[col].fillna(df[col].mode()[0])\n",
    "\n",
    "# One-hot encoding\n",
    "df_encoded = pd.get_dummies(df, columns=cat_cols, drop_first=True)\n",
    "\n",
    "# 特徵與目標變數\n",
    "X = df_encoded.drop(columns=['Quantity'])\n",
    "y = df_encoded['Quantity']\n"
   ]
  },
  {
   "cell_type": "code",
   "execution_count": null,
   "id": "654d5689",
   "metadata": {},
   "outputs": [],
   "source": [
    "\n",
    "# Base models\n",
    "rf_model = RandomForestRegressor(n_estimators=100, random_state=42)\n",
    "gb_model = GradientBoostingRegressor(n_estimators=100, random_state=42)\n",
    "base_models = [('RandomForest', rf_model), ('GradientBoosting', gb_model)]\n",
    "\n",
    "# Grid Search\n",
    "param_grid = {'fit_intercept': [True, False]}\n",
    "grid_search = GridSearchCV(LinearRegression(), param_grid, cv=5, scoring='neg_mean_squared_error', n_jobs=-1)\n",
    "grid_search.fit(X, y)\n",
    "best_params = grid_search.best_params_\n",
    "best_mse = -grid_search.best_score_\n",
    "\n",
    "# Split\n",
    "X_train, X_test, y_train, y_test = train_test_split(X, y, test_size=0.2, random_state=42)\n",
    "\n",
    "# Train model\n",
    "refined_meta_model = LinearRegression(**best_params)\n",
    "stacked_model = StackingRegressor(estimators=base_models, final_estimator=refined_meta_model)\n",
    "stacked_model.fit(X_train, y_train)\n",
    "\n",
    "# Save model\n",
    "model_path = \"stacked_model.joblib\"\n",
    "joblib.dump(stacked_model, model_path)\n",
    "print(f\"✅ 模型已儲存至 {model_path}\")\n"
   ]
  },
  {
   "cell_type": "code",
   "execution_count": null,
   "id": "041e775e",
   "metadata": {},
   "outputs": [],
   "source": [
    "\n",
    "# 載入模型\n",
    "model_path = \"stacked_model.joblib\"\n",
    "loaded_model = joblib.load(model_path)\n",
    "\n",
    "# 預測\n",
    "stacked_predictions = loaded_model.predict(X)\n",
    "df_result = X.copy()\n",
    "df_result[\"Actual_Quantity\"] = y\n",
    "df_result[\"Predicted_Quantity\"] = stacked_predictions\n",
    "\n",
    "# 匯出結果\n",
    "output_path = \"0620Stacking.csv\"\n",
    "df_result.to_csv(output_path, index=False)\n",
    "\n",
    "print(f\"✅ 已使用儲存模型預測完成，結果儲存於：{output_path}\")\n"
   ]
  }
 ],
 "metadata": {
  "kernelspec": {
   "display_name": "Python 3",
   "name": "python3"
  },
  "language_info": {
   "codemirror_mode": {
    "name": "ipython",
    "version": 3
   },
   "file_extension": ".py",
   "mimetype": "text/x-python",
   "name": "python",
   "nbconvert_exporter": "python",
   "pygments_lexer": "ipython3",
   "version": "3.13.1"
  }
 },
 "nbformat": 4,
 "nbformat_minor": 5
}
